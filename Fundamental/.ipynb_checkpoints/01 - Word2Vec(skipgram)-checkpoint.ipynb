{
 "cells": [
  {
   "cell_type": "markdown",
   "id": "bccc2291-464d-4f51-9802-053747a29e1b",
   "metadata": {},
   "source": [
    "# Word2Vec(Skipgram)\n",
    "\n",
    "Let's work on skipgram-based implementation of word2vec."
   ]
  },
  {
   "cell_type": "code",
   "execution_count": 4,
   "id": "fb6053da-a975-47de-b1b8-98b455e95159",
   "metadata": {},
   "outputs": [],
   "source": [
    "import numpy as np\n",
    "import torch\n",
    "import torch.nn as nn\n",
    "import torch.optim as optim\n",
    "import matplotlib.pyplot as plt\n"
   ]
  },
  {
   "cell_type": "code",
   "execution_count": 5,
   "id": "14978108-492d-4b68-907d-36867bde67ee",
   "metadata": {},
   "outputs": [
    {
     "data": {
      "text/plain": [
       "('1.26.4', '2.2.2+cu121')"
      ]
     },
     "execution_count": 5,
     "metadata": {},
     "output_type": "execute_result"
    }
   ],
   "source": [
    "np.__version__, torch.__version__"
   ]
  },
  {
   "cell_type": "code",
   "execution_count": 6,
   "id": "1af8937d-c79a-441c-8807-8fb27287a4c3",
   "metadata": {},
   "outputs": [
    {
     "data": {
      "text/plain": [
       "'3.9.1'"
      ]
     },
     "execution_count": 6,
     "metadata": {},
     "output_type": "execute_result"
    }
   ],
   "source": [
    "import matplotlib\n",
    "matplotlib.__version__"
   ]
  },
  {
   "cell_type": "markdown",
   "id": "9aa2008a-3898-43e5-8144-0d247b15b4cc",
   "metadata": {},
   "source": [
    "## 1. Load data"
   ]
  },
  {
   "cell_type": "code",
   "execution_count": 7,
   "id": "8be7d48a-b848-4a21-aa66-af2a128dee40",
   "metadata": {},
   "outputs": [],
   "source": [
    "corpus = [\"apple banana fruit\", \"banana apple fruit\", \"banana fruit apple\",\n",
    "          \"dog cat animal\", \"cat animal dog\", \"cat dog animal\"]"
   ]
  },
  {
   "cell_type": "code",
   "execution_count": 9,
   "id": "19dcdeb8-60c3-41ad-8c2d-67028c09cb69",
   "metadata": {},
   "outputs": [
    {
     "data": {
      "text/plain": [
       "[['apple', 'banana', 'fruit'],\n",
       " ['banana', 'apple', 'fruit'],\n",
       " ['banana', 'fruit', 'apple'],\n",
       " ['dog', 'cat', 'animal'],\n",
       " ['cat', 'animal', 'dog'],\n",
       " ['cat', 'dog', 'animal']]"
      ]
     },
     "execution_count": 9,
     "metadata": {},
     "output_type": "execute_result"
    }
   ],
   "source": [
    "# 1. tokenization\n",
    "corpus = [sent.split(\" \") for sent in corpus]\n",
    "corpus"
   ]
  },
  {
   "cell_type": "code",
   "execution_count": 43,
   "id": "2a9dbb0c-0fc6-472c-9050-b148883738ec",
   "metadata": {},
   "outputs": [
    {
     "data": {
      "text/plain": [
       "['apple',\n",
       " 'banana',\n",
       " 'fruit',\n",
       " 'banana',\n",
       " 'apple',\n",
       " 'fruit',\n",
       " 'banana',\n",
       " 'fruit',\n",
       " 'apple',\n",
       " 'dog',\n",
       " 'cat',\n",
       " 'animal',\n",
       " 'cat',\n",
       " 'animal',\n",
       " 'dog',\n",
       " 'cat',\n",
       " 'dog',\n",
       " 'animal']"
      ]
     },
     "execution_count": 43,
     "metadata": {},
     "output_type": "execute_result"
    }
   ],
   "source": [
    "# 2. numeralization\n",
    "# find uniques word\n",
    "flatten = lambda l: [item for sublists in l for item in sublists]\n",
    "flatten(corpus)"
   ]
  },
  {
   "cell_type": "code",
   "execution_count": 44,
   "id": "dd345261-3629-4d6d-bc36-b97022af19eb",
   "metadata": {},
   "outputs": [
    {
     "data": {
      "text/plain": [
       "['apple', 'fruit', 'animal', 'banana', 'dog', 'cat']"
      ]
     },
     "execution_count": 44,
     "metadata": {},
     "output_type": "execute_result"
    }
   ],
   "source": [
    "# assign unique integer\n",
    "vocabs = list(set(flatten(corpus))) # all the words we have in the system - <UNK>\n",
    "vocabs"
   ]
  },
  {
   "cell_type": "code",
   "execution_count": 18,
   "id": "5d9b923e-8eed-4b33-9e25-65b47685cb13",
   "metadata": {},
   "outputs": [
    {
     "data": {
      "text/plain": [
       "4"
      ]
     },
     "execution_count": 18,
     "metadata": {},
     "output_type": "execute_result"
    }
   ],
   "source": [
    "# create handy mapping between interger and word\n",
    "word2index = { v:idx for idx, v in enumerate(vocabs)}\n",
    "word2index['dog']"
   ]
  },
  {
   "cell_type": "code",
   "execution_count": 45,
   "id": "6960ff2c-a60a-48c6-aeb4-8560e1eaa6f8",
   "metadata": {},
   "outputs": [],
   "source": [
    "# append UNK\n",
    "vocabs.append('<UNK>') \n",
    "word2index['<UNK>'] = 6"
   ]
  },
  {
   "cell_type": "code",
   "execution_count": 46,
   "id": "0fa20bdd-0c37-446c-b977-fec56ce31921",
   "metadata": {},
   "outputs": [
    {
     "data": {
      "text/plain": [
       "{0: 'apple',\n",
       " 1: 'fruit',\n",
       " 2: 'animal',\n",
       " 3: 'banana',\n",
       " 4: 'dog',\n",
       " 5: 'cat',\n",
       " 6: '<UNK>'}"
      ]
     },
     "execution_count": 46,
     "metadata": {},
     "output_type": "execute_result"
    }
   ],
   "source": [
    "index2word = { v:k for k, v in word2index.items()}\n",
    "index2word"
   ]
  },
  {
   "cell_type": "markdown",
   "id": "28829d60-b078-4e1f-87bc-512532498041",
   "metadata": {},
   "source": [
    "## 2. Prepare train data"
   ]
  },
  {
   "cell_type": "code",
   "execution_count": 37,
   "id": "89a7025f-30ab-46f2-88bb-179bb7ee9097",
   "metadata": {},
   "outputs": [],
   "source": [
    "#create pairs of center word, and outside word\n",
    "\n",
    "def random_batch(batch_size, corpus):\n",
    "\n",
    "    skipgrams = []\n",
    "\n",
    "    #loop each corpus\n",
    "    for doc in corpus:\n",
    "        #look from the 2nd word until second last word\n",
    "        for i in range(1, len(doc)-1):\n",
    "            #center word\n",
    "            center = word2index[doc[i]]\n",
    "            #outside words = 2 words\n",
    "            outside = (word2index[doc[i-1]], word2index[doc[i+1]])\n",
    "            #for each of these two outside words, we gonna append to a list\n",
    "            for each_out in outside:\n",
    "                skipgrams.append([center, each_out])\n",
    "                #center, outside1;   center, outside2\n",
    "                \n",
    "    random_index = np.random.choice(range(len(skipgrams)), batch_size, replace=False)\n",
    "    \n",
    "    inputs, labels = [], []\n",
    "    for index in random_index:\n",
    "        inputs.append([skipgrams[index][0]])\n",
    "        labels.append([skipgrams[index][1]])\n",
    "        \n",
    "    return np.array(inputs), np.array(labels)\n",
    "            \n",
    "x, y = random_batch(2, corpus)"
   ]
  },
  {
   "cell_type": "code",
   "execution_count": 39,
   "id": "0d906642-169c-4aeb-a68e-e9e362288fe9",
   "metadata": {},
   "outputs": [
    {
     "data": {
      "text/plain": [
       "(2, 1)"
      ]
     },
     "execution_count": 39,
     "metadata": {},
     "output_type": "execute_result"
    }
   ],
   "source": [
    "x.shape  #batch_size, 1"
   ]
  },
  {
   "cell_type": "code",
   "execution_count": 40,
   "id": "d4b301ce-4f7a-4ea8-9ebd-d6c5f6ca1546",
   "metadata": {},
   "outputs": [
    {
     "data": {
      "text/plain": [
       "array([[2],\n",
       "       [0]])"
      ]
     },
     "execution_count": 40,
     "metadata": {},
     "output_type": "execute_result"
    }
   ],
   "source": [
    "x"
   ]
  },
  {
   "cell_type": "code",
   "execution_count": 41,
   "id": "b9ac87bb-1e6b-401c-ae37-68986434945a",
   "metadata": {},
   "outputs": [
    {
     "data": {
      "text/plain": [
       "(2, 1)"
      ]
     },
     "execution_count": 41,
     "metadata": {},
     "output_type": "execute_result"
    }
   ],
   "source": [
    "y.shape  #batch_size 1"
   ]
  },
  {
   "cell_type": "markdown",
   "id": "9943fdb7-e4af-4447-b8c0-06c9dfafd840",
   "metadata": {},
   "source": [
    "## 3. Model"
   ]
  },
  {
   "cell_type": "markdown",
   "id": "fd006feb-163d-4b56-9ca5-69f591f76faf",
   "metadata": {},
   "source": [
    "$$\n",
    "J(\\theta) = -\\frac{1}{T} \\sum_{t=1}^T \\sum_{\\substack{-m\\leq j\\leq m \\ j\\neq 0}} \\log P(w_{t+j}|w_t;\\theta)\n",
    "$$\n",
    "$$\n",
    "\\text{where } P(w_{t+j}|w_t;\\theta) =\n",
    "$$\n",
    "$$\n",
    "P(o|c) = \\frac{\\exp(\\mathbf{u}_o^T\\mathbf{v}c)}{\\sum{w=1}^V \\exp(\\mathbf{u}_w^T\\mathbf{v}_c)}\n",
    "$$\n",
    "$$\n",
    "\\text{where } o \\text{ is the outside words and } c \\text{ is the center word}\n",
    "$$"
   ]
  },
  {
   "cell_type": "code",
   "execution_count": 48,
   "id": "8543493a-4554-4d61-99e0-76ead92ee92a",
   "metadata": {},
   "outputs": [
    {
     "data": {
      "text/plain": [
       "7"
      ]
     },
     "execution_count": 48,
     "metadata": {},
     "output_type": "execute_result"
    }
   ],
   "source": [
    "len(vocabs)"
   ]
  },
  {
   "cell_type": "code",
   "execution_count": 49,
   "id": "7f634553-6112-4245-977d-704217264a69",
   "metadata": {},
   "outputs": [],
   "source": [
    "embedding = nn.Embedding(7, 2)\n"
   ]
  },
  {
   "cell_type": "code",
   "execution_count": 50,
   "id": "c7125919-6d7f-4e83-b444-7d3567aee63b",
   "metadata": {},
   "outputs": [
    {
     "data": {
      "text/plain": [
       "torch.Size([2, 1, 2])"
      ]
     },
     "execution_count": 50,
     "metadata": {},
     "output_type": "execute_result"
    }
   ],
   "source": [
    "x_tensor = torch.LongTensor(x)\n",
    "embedding(x_tensor).shape  #(batch_size, 1, emb_size)"
   ]
  },
  {
   "cell_type": "markdown",
   "id": "45554021-70b0-4ccb-9bf4-23572001824c",
   "metadata": {},
   "source": [
    "$$\n",
    "P(o|c) = \\frac{\\exp(\\mathbf{u}_o^T\\mathbf{v}c)}{\\sum{w=1}^V \\exp(\\mathbf{u}_w^T\\mathbf{v}_c)}\n",
    "$$"
   ]
  },
  {
   "cell_type": "code",
   "execution_count": 51,
   "id": "58f2ad41-75e5-4ae4-9a2f-b442160d72c0",
   "metadata": {},
   "outputs": [],
   "source": [
    "class Skipgram(nn.Module):\n",
    "    \n",
    "    def __init__(self, voc_size, emb_size):\n",
    "        super(Skipgram, self).__init__()\n",
    "        self.embedding_center  = nn.Embedding(voc_size, emb_size)\n",
    "        self.embedding_outside = nn.Embedding(voc_size, emb_size)\n",
    "    \n",
    "    def forward(self, center, outside, all_vocabs):\n",
    "        center_embedding     = self.embedding_center(center)  #(batch_size, 1, emb_size)\n",
    "        outside_embedding    = self.embedding_center(outside) #(batch_size, 1, emb_size)\n",
    "        all_vocabs_embedding = self.embedding_center(all_vocabs) #(batch_size, voc_size, emb_size)\n",
    "        \n",
    "        top_term = torch.exp(outside_embedding.bmm(center_embedding.transpose(1, 2)).squeeze(2))\n",
    "        #batch_size, 1, emb_size) @ (batch_size, emb_size, 1) = (batch_size, 1, 1) = (batch_size, 1) \n",
    "\n",
    "        lower_term = all_vocabs_embedding.bmm(center_embedding.transpose(1, 2)).squeeze(2)\n",
    "        #batch_size, voc_size, emb_size) @ (batch_size, emb_size, 1) = (batch_size, voc_size, 1) = (batch_size, voc_size) \n",
    "        \n",
    "        lower_term_sum = torch.sum(torch.exp(lower_term), 1)  #(batch_size, 1)\n",
    "        \n",
    "        loss = -torch.mean(torch.log(top_term / lower_term_sum))  #scalar\n",
    "        \n",
    "        return loss\n",
    "        "
   ]
  },
  {
   "cell_type": "code",
   "execution_count": 52,
   "id": "37eef988-deb5-4c87-8803-91ff69b6821b",
   "metadata": {},
   "outputs": [
    {
     "data": {
      "text/plain": [
       "tensor([[0, 1, 2, 3, 4, 5, 6],\n",
       "        [0, 1, 2, 3, 4, 5, 6]])"
      ]
     },
     "execution_count": 52,
     "metadata": {},
     "output_type": "execute_result"
    }
   ],
   "source": [
    "#prepare all vocabs\n",
    "\n",
    "batch_size = 2\n",
    "voc_size   = len(vocabs)\n",
    "\n",
    "def prepare_sequence(seq, word2index):\n",
    "    idxs = list(map(lambda w: word2index[w] if word2index.get(w) is not None else word2index[\"<UNK>\"], seq))\n",
    "    return torch.LongTensor(idxs)\n",
    "\n",
    "all_vocabs = prepare_sequence(list(vocabs), word2index).expand(batch_size, voc_size)\n",
    "all_vocabs"
   ]
  },
  {
   "cell_type": "code",
   "execution_count": 56,
   "id": "7dfd99f7-7f35-41f0-adc1-be64d96687ba",
   "metadata": {},
   "outputs": [
    {
     "data": {
      "text/plain": [
       "Skipgram(\n",
       "  (embedding_center): Embedding(7, 2)\n",
       "  (embedding_outside): Embedding(7, 2)\n",
       ")"
      ]
     },
     "execution_count": 56,
     "metadata": {},
     "output_type": "execute_result"
    }
   ],
   "source": [
    "model = Skipgram(voc_size, 2)\n",
    "model"
   ]
  },
  {
   "cell_type": "code",
   "execution_count": 57,
   "id": "d022279c-ab07-4751-948f-56d86a054d3a",
   "metadata": {},
   "outputs": [],
   "source": [
    "input_tensor = torch.LongTensor(x)\n",
    "label_tensor = torch.LongTensor(y)\n"
   ]
  },
  {
   "cell_type": "code",
   "execution_count": 58,
   "id": "6930c7d4-a09c-47d2-8de5-feeaacf951a8",
   "metadata": {},
   "outputs": [
    {
     "data": {
      "text/plain": [
       "tensor(2.9532, grad_fn=<NegBackward0>)"
      ]
     },
     "execution_count": 58,
     "metadata": {},
     "output_type": "execute_result"
    }
   ],
   "source": [
    "loss = model(input_tensor, label_tensor, all_vocabs)\n",
    "loss"
   ]
  },
  {
   "cell_type": "markdown",
   "id": "25709ec4-228c-4094-a778-7e05e6e0ca50",
   "metadata": {},
   "source": [
    "## 4. Training"
   ]
  },
  {
   "cell_type": "code",
   "execution_count": 60,
   "id": "302cf99c-f643-4a18-a887-35b4194da914",
   "metadata": {},
   "outputs": [],
   "source": [
    "batch_size = 2 \n",
    "emb_size   = 2\n",
    "model      = Skipgram(voc_size, emb_size)\n",
    "optimizer  = optim.Adam(model.parameters(), lr=0.001)"
   ]
  },
  {
   "cell_type": "code",
   "execution_count": 61,
   "id": "445262f1-25cf-4fae-93a1-d673a7a1396a",
   "metadata": {},
   "outputs": [
    {
     "name": "stdout",
     "output_type": "stream",
     "text": [
      "Epoch   1000 | Loss: 2.281787\n",
      "Epoch   2000 | Loss: 1.587172\n",
      "Epoch   3000 | Loss: 1.288966\n",
      "Epoch   4000 | Loss: 1.140098\n",
      "Epoch   5000 | Loss: 1.151153\n",
      "Epoch   6000 | Loss: 1.107107\n",
      "Epoch   7000 | Loss: 1.092450\n",
      "Epoch   8000 | Loss: 1.096299\n",
      "Epoch   9000 | Loss: 1.121680\n",
      "Epoch  10000 | Loss: 1.113477\n"
     ]
    }
   ],
   "source": [
    "num_epochs = 10000\n",
    "\n",
    "for epoch in range(num_epochs):\n",
    "    \n",
    "    #get batch\n",
    "    input_batch, label_batch = random_batch(batch_size, corpus)\n",
    "    input_tensor = torch.LongTensor(input_batch)\n",
    "    label_tensor = torch.LongTensor(label_batch)\n",
    "    \n",
    "    #predict\n",
    "    loss = model(input_tensor, label_tensor, all_vocabs)\n",
    "    \n",
    "    #backprogate\n",
    "    optimizer.zero_grad()\n",
    "    loss.backward()\n",
    "    \n",
    "    #update alpha\n",
    "    optimizer.step()\n",
    "    \n",
    "    #print the loss\n",
    "    if (epoch + 1) % 1000 == 0:\n",
    "        print(f\"Epoch {epoch+1:6.0f} | Loss: {loss:2.6f}\")"
   ]
  },
  {
   "cell_type": "code",
   "execution_count": null,
   "id": "868533eb-7fb3-461c-9bb3-9bed61b79c3c",
   "metadata": {},
   "outputs": [],
   "source": []
  },
  {
   "cell_type": "markdown",
   "id": "71a89b65-839f-4bb6-b173-50708e6935b6",
   "metadata": {},
   "source": [
    "## 5. Plot the embeddings\n",
    "\n",
    "Is fruit really near to banana? Is fruit really far from cat?"
   ]
  },
  {
   "cell_type": "code",
   "execution_count": 62,
   "id": "386bfe97-d683-4ac8-9d81-41648ea6e0b3",
   "metadata": {},
   "outputs": [
    {
     "data": {
      "text/plain": [
       "['apple', 'fruit', 'animal', 'banana', 'dog', 'cat', '<UNK>']"
      ]
     },
     "execution_count": 62,
     "metadata": {},
     "output_type": "execute_result"
    }
   ],
   "source": [
    "vocabs"
   ]
  },
  {
   "cell_type": "code",
   "execution_count": 63,
   "id": "2834026f-2003-4367-981d-e62ae20f3bbc",
   "metadata": {},
   "outputs": [
    {
     "data": {
      "text/plain": [
       "tensor([3])"
      ]
     },
     "execution_count": 63,
     "metadata": {},
     "output_type": "execute_result"
    }
   ],
   "source": [
    "banana = torch.LongTensor([word2index['banana']])\n",
    "banana"
   ]
  },
  {
   "cell_type": "code",
   "execution_count": 64,
   "id": "2ea35668-211f-4ec3-b9f0-0f11e6ba1e7e",
   "metadata": {},
   "outputs": [
    {
     "data": {
      "text/plain": [
       "tensor([[-0.6326, -1.1040]], grad_fn=<DivBackward0>)"
      ]
     },
     "execution_count": 64,
     "metadata": {},
     "output_type": "execute_result"
    }
   ],
   "source": [
    "banana_embed_c = model.embedding_center(banana)\n",
    "banana_embed_o = model.embedding_outside(banana)\n",
    "banana_embed   = (banana_embed_c + banana_embed_o) / 2\n",
    "banana_embed"
   ]
  },
  {
   "cell_type": "code",
   "execution_count": 65,
   "id": "11e84e21-936e-402f-81c9-3b64ebe514af",
   "metadata": {},
   "outputs": [
    {
     "data": {
      "text/plain": [
       "tensor([[-1.0920, -0.4920]], grad_fn=<EmbeddingBackward0>)"
      ]
     },
     "execution_count": 65,
     "metadata": {},
     "output_type": "execute_result"
    }
   ],
   "source": [
    "banana_embed_o"
   ]
  },
  {
   "cell_type": "code",
   "execution_count": 67,
   "id": "50704eab-ec07-4e9b-9d4d-4340c813c2b3",
   "metadata": {},
   "outputs": [],
   "source": [
    "def get_embed(word):\n",
    "    try:\n",
    "        index = word2index[word]\n",
    "    except:\n",
    "        index = word2index['<UNK>']\n",
    "        \n",
    "    word = torch.LongTensor([word2index[word]])\n",
    "    \n",
    "    embed_c = model.embedding_center(word)\n",
    "    embed_o = model.embedding_outside(word)\n",
    "    embed   = (embed_c + embed_o) / 2\n",
    "    \n",
    "    return embed[0][0].item(), embed[0][1].item()"
   ]
  },
  {
   "cell_type": "code",
   "execution_count": 68,
   "id": "51afd508-8051-49b7-8abd-96c190e8424c",
   "metadata": {},
   "outputs": [
    {
     "data": {
      "text/plain": [
       "(-0.43507444858551025, -1.0678515434265137)"
      ]
     },
     "execution_count": 68,
     "metadata": {},
     "output_type": "execute_result"
    }
   ],
   "source": [
    "get_embed('fruit')"
   ]
  },
  {
   "cell_type": "code",
   "execution_count": 69,
   "id": "391e7f95-3b8c-40ae-bfe5-d394ad7feb9a",
   "metadata": {},
   "outputs": [
    {
     "data": {
      "text/plain": [
       "(1.5285184383392334, 0.09708929061889648)"
      ]
     },
     "execution_count": 69,
     "metadata": {},
     "output_type": "execute_result"
    }
   ],
   "source": [
    "get_embed('cat')"
   ]
  },
  {
   "cell_type": "code",
   "execution_count": 70,
   "id": "3e600254-f9a2-4316-bd81-217b63209848",
   "metadata": {},
   "outputs": [
    {
     "data": {
      "text/plain": [
       "(0.9525989294052124, 0.7601563930511475)"
      ]
     },
     "execution_count": 70,
     "metadata": {},
     "output_type": "execute_result"
    }
   ],
   "source": [
    "get_embed('dog')"
   ]
  },
  {
   "cell_type": "code",
   "execution_count": 71,
   "id": "6cef0e63-ecd3-49c3-8ace-a7adc65310f5",
   "metadata": {},
   "outputs": [
    {
     "data": {
      "text/plain": [
       "(-0.6325951814651489, -1.1039631366729736)"
      ]
     },
     "execution_count": 71,
     "metadata": {},
     "output_type": "execute_result"
    }
   ],
   "source": [
    "get_embed('banana')"
   ]
  },
  {
   "cell_type": "code",
   "execution_count": 72,
   "id": "2e5833bd-f9f0-456d-b30e-7f835c251353",
   "metadata": {},
   "outputs": [
    {
     "data": {
      "image/png": "[encoded data removed]",
      "text/plain": [
       "<Figure size 600x300 with 1 Axes>"
      ]
     },
     "metadata": {},
     "output_type": "display_data"
    }
   ],
   "source": [
    "plt.figure(figsize=(6, 3))\n",
    "for i, word in enumerate(vocabs):\n",
    "    x, y = get_embed(word)\n",
    "    plt.scatter(x, y)\n",
    "    plt.annotate(word, xy=(x, y), xytext=(5, 2), textcoords='offset points')\n",
    "plt.show()"
   ]
  },
  {
   "cell_type": "markdown",
   "id": "df727d44-3f7d-47e7-907a-3986be09708a",
   "metadata": {},
   "source": [
    "## 6. Cosine similarity"
   ]
  },
  {
   "cell_type": "markdown",
   "id": "ef98e5db-14bb-4cc5-87d2-cee2f667cc71",
   "metadata": {},
   "source": [
    "Formally the Cosine Similarity between two vectors and is defined as:\n",
    "$$\n",
    "s = \\frac{p \\cdot q}{\\|p\\| \\|q\\|}, \\text{ where } s \\in [-1, 1]\n",
    "$$\n",
    "\n",
    "If 'p' and 'q' is super similar, the result is 1 otherwise 0."
   ]
  },
  {
   "cell_type": "code",
   "execution_count": 73,
   "id": "9f40fbc2-f4e4-43e7-9318-c5c473b6a2f8",
   "metadata": {},
   "outputs": [
    {
     "data": {
      "text/plain": [
       "(-0.6325951814651489, -1.1039631366729736)"
      ]
     },
     "execution_count": 73,
     "metadata": {},
     "output_type": "execute_result"
    }
   ],
   "source": [
    "banana = get_embed('banana')\n",
    "banana"
   ]
  },
  {
   "cell_type": "code",
   "execution_count": 74,
   "id": "04753eee-e1fc-48bf-b685-9da1b9cdf602",
   "metadata": {},
   "outputs": [
    {
     "data": {
      "text/plain": [
       "(-2.2081451416015625, 0.8839558362960815)"
      ]
     },
     "execution_count": 74,
     "metadata": {},
     "output_type": "execute_result"
    }
   ],
   "source": [
    "unk = get_embed('<UNK>')\n",
    "unk"
   ]
  },
  {
   "cell_type": "code",
   "execution_count": 75,
   "id": "fed7ff18-8ecf-4617-baca-0d5ff7a774c9",
   "metadata": {},
   "outputs": [
    {
     "data": {
      "text/plain": [
       "(-0.43507444858551025, -1.0678515434265137)"
      ]
     },
     "execution_count": 75,
     "metadata": {},
     "output_type": "execute_result"
    }
   ],
   "source": [
    "fruit = get_embed('fruit')\n",
    "fruit"
   ]
  },
  {
   "cell_type": "code",
   "execution_count": 79,
   "id": "49fe2dba-7fc1-46ef-a3bc-c743a306444d",
   "metadata": {},
   "outputs": [
    {
     "data": {
      "text/plain": [
       "0.4210073188350236"
      ]
     },
     "execution_count": 79,
     "metadata": {},
     "output_type": "execute_result"
    }
   ],
   "source": [
    "np.array(banana) @ np.array(unk)"
   ]
  },
  {
   "cell_type": "code",
   "execution_count": 80,
   "id": "2e8224dc-9833-45b9-8161-d0554b9322ff",
   "metadata": {},
   "outputs": [
    {
     "name": "stdout",
     "output_type": "stream",
     "text": [
      "0.13911506869592064\n",
      "0.9911085358680304\n"
     ]
    }
   ],
   "source": [
    "#more formally is to divide by its norm\n",
    "def cosine_similarity(A, B):\n",
    "    dot_product = np.dot(A, B)\n",
    "    norm_a = np.linalg.norm(A)\n",
    "    norm_b = np.linalg.norm(B)\n",
    "    similarity = dot_product / (norm_a * norm_b)\n",
    "    return similarity\n",
    "\n",
    "print(cosine_similarity(np.array(banana), np.array(unk)))\n",
    "print(cosine_similarity(np.array(banana), np.array(fruit)))"
   ]
  },
  {
   "cell_type": "code",
   "execution_count": null,
   "id": "346b388d-efb3-4b44-b1ab-43e72763fdf3",
   "metadata": {},
   "outputs": [],
   "source": []
  }
 ],
 "metadata": {
  "kernelspec": {
   "display_name": "Python 3 (ipykernel)",
   "language": "python",
   "name": "python3"
  },
  "language_info": {
   "codemirror_mode": {
    "name": "ipython",
    "version": 3
   },
   "file_extension": ".py",
   "mimetype": "text/x-python",
   "name": "python",
   "nbconvert_exporter": "python",
   "pygments_lexer": "ipython3",
   "version": "3.10.12"
  }
 },
 "nbformat": 4,
 "nbformat_minor": 5
}
