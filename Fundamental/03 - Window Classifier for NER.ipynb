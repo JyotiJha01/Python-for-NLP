{
 "cells": [
  {
   "cell_type": "markdown",
   "id": "46a44e41-2ac5-466f-b1b4-8730c7719879",
   "metadata": {},
   "source": [
    "# Window Classifier for NER"
   ]
  },
  {
   "cell_type": "markdown",
   "id": "e58d0f3d-1c4e-499f-b9fa-1b4b32f1484f",
   "metadata": {},
   "source": [
    "## 1. Load data\n",
    "Named entities are phrases that contain the names of persons, organizations, locations, times and quantities. Example:\n",
    "\n",
    "[PER Wolff ] , currently a journalist in [LOC Argentina ] , played with [PER Del Bosque ] in the final years of the seventies in [ORG Real Madrid ] .\n",
    "\n",
    "\n",
    "The shared task of CoNLL-2002 (https://www.clips.uantwerpen.be/conll2002/ner/) concerns language-independent named entity recognition. We will concentrate on four types of named entities: persons, locations, organizations and names of miscellaneous entities that do not belong to the previous three groups.\n",
    "\n",
    "The data consists of two columns separated by a single space. Each word has been put on a separate line and there is an empty line after each sentence. The first item on each line is a word and the second the named entity tag. The tags have the same format as in the chunking task: a B denotes the first item of a phrase and an I any non-initial word. There are four types of phrases: person names (PER), organizations (ORG), locations (LOC) and miscellaneous names (MISC)."
   ]
  },
  {
   "cell_type": "code",
   "execution_count": 2,
   "id": "4cf768f0-9d92-4b0c-b899-c7328fc0bb9d",
   "metadata": {},
   "outputs": [
    {
     "name": "stdout",
     "output_type": "stream",
     "text": [
      "Defaulting to user installation because normal site-packages is not writeable\n",
      "Collecting nltk\n",
      "  Downloading nltk-3.8.1-py3-none-any.whl (1.5 MB)\n",
      "\u001b[2K     \u001b[38;2;114;156;31m━━━━━━━━━━━━━━━━━━━━━━━━━━━━━━━━━━━━━━━━\u001b[0m \u001b[32m1.5/1.5 MB\u001b[0m \u001b[31m6.9 MB/s\u001b[0m eta \u001b[36m0:00:00\u001b[0mm eta \u001b[36m0:00:01\u001b[0m[36m0:00:01\u001b[0m\n",
      "\u001b[?25hRequirement already satisfied: tqdm in /home/jyoti/.local/lib/python3.10/site-packages (from nltk) (4.66.4)\n",
      "Requirement already satisfied: joblib in /home/jyoti/.local/lib/python3.10/site-packages (from nltk) (1.4.0)\n",
      "Requirement already satisfied: click in /home/jyoti/.local/lib/python3.10/site-packages (from nltk) (8.1.7)\n",
      "Requirement already satisfied: regex>=2021.8.3 in /home/jyoti/.local/lib/python3.10/site-packages (from nltk) (2023.12.25)\n",
      "Installing collected packages: nltk\n",
      "Successfully installed nltk-3.8.1\n"
     ]
    }
   ],
   "source": [
    "!pip install nltk"
   ]
  },
  {
   "cell_type": "code",
   "execution_count": 3,
   "id": "580ae9fa-a4c9-4808-935e-45e309bcbe25",
   "metadata": {},
   "outputs": [
    {
     "name": "stderr",
     "output_type": "stream",
     "text": [
      "[nltk_data] Downloading package conll2002 to /home/jyoti/nltk_data...\n",
      "[nltk_data]   Unzipping corpora/conll2002.zip.\n"
     ]
    },
    {
     "data": {
      "text/plain": [
       "True"
      ]
     },
     "execution_count": 3,
     "metadata": {},
     "output_type": "execute_result"
    }
   ],
   "source": [
    "import nltk\n",
    "nltk.download('conll2002')"
   ]
  },
  {
   "cell_type": "code",
   "execution_count": 4,
   "id": "c1e19c0b-ef7a-4e83-b8c0-c95ad45fdd3d",
   "metadata": {},
   "outputs": [],
   "source": [
    "corpus = nltk.corpus.conll2002.iob_sents()"
   ]
  },
  {
   "cell_type": "code",
   "execution_count": 5,
   "id": "8b381b3d-190c-4ec3-908b-55aff1bbd8c9",
   "metadata": {},
   "outputs": [],
   "source": [
    "data = []\n",
    "for cor in corpus:\n",
    "    sent, _, tag = list(zip(*cor))\n",
    "    data.append([sent, tag])"
   ]
  },
  {
   "cell_type": "code",
   "execution_count": 9,
   "id": "b37e3d72-ba9f-43c2-a512-d752f162fc83",
   "metadata": {},
   "outputs": [],
   "source": [
    "# data[0] "
   ]
  },
  {
   "cell_type": "markdown",
   "id": "080431f1-0f43-4ebd-84a2-45ccf25cc76c",
   "metadata": {},
   "source": [
    "## 2. Tokenization\n",
    "\n",
    "Since the dataset is already tokenized, Just skip!"
   ]
  },
  {
   "cell_type": "markdown",
   "id": "8a258d42-edb4-4142-988c-e28d440ecee7",
   "metadata": {},
   "source": [
    "## 3. Numericalization\n",
    "Note that we need to build separate id for vocab and tags for prediction"
   ]
  },
  {
   "cell_type": "code",
   "execution_count": 10,
   "id": "f471cb44-a089-480d-b47f-d9f3739f110d",
   "metadata": {},
   "outputs": [],
   "source": [
    "flatten = lambda l: [item for sublist in l for item in sublist]\n",
    "\n",
    "sents, tags = list(zip(*data))\n",
    "vocab  = list(set(flatten(sents)))\n",
    "tagset = list(set(flatten(tags)))"
   ]
  },
  {
   "cell_type": "code",
   "execution_count": 11,
   "id": "82ea5fae-28d8-4e03-8b99-5c251a5b889c",
   "metadata": {},
   "outputs": [
    {
     "data": {
      "text/plain": [
       "['I-ORG', 'I-MISC', 'O', 'I-PER', 'B-PER', 'B-LOC', 'B-MISC', 'B-ORG', 'I-LOC']"
      ]
     },
     "execution_count": 11,
     "metadata": {},
     "output_type": "execute_result"
    }
   ],
   "source": [
    "tagset"
   ]
  },
  {
   "cell_type": "code",
   "execution_count": 12,
   "id": "c985de2e-36f1-4bc9-aa53-57cd41e3b36c",
   "metadata": {},
   "outputs": [],
   "source": [
    "word2index = {'<UNK>': 0, '<DUMMY>': 1}\n",
    "for v in vocab:\n",
    "    if word2index.get(v) is None:\n",
    "        word2index[v] = len(word2index)\n",
    "index2word = {v:k for k, v in word2index.items()}\n",
    "\n",
    "tag2index = {}\n",
    "for v in tagset:\n",
    "    if tag2index.get(v) is None:\n",
    "        tag2index[v] = len(tag2index)\n",
    "index2tag = {v:k for k, v in tag2index.items()}"
   ]
  },
  {
   "cell_type": "markdown",
   "id": "bc5a0944-5b4f-4a09-8e68-c770e1de3de2",
   "metadata": {},
   "source": [
    "## 4. Prepare window data"
   ]
  },
  {
   "cell_type": "code",
   "execution_count": 13,
   "id": "bcca2fe4-dc0a-4c59-a7cf-ceca7c8655c5",
   "metadata": {},
   "outputs": [],
   "source": [
    "window_size = 2\n",
    "windows = []"
   ]
  },
  {
   "cell_type": "code",
   "execution_count": 14,
   "id": "e4cd17ab-41a5-4773-8137-d1cf694d5aab",
   "metadata": {},
   "outputs": [],
   "source": [
    "for sample in data:\n",
    "    dummy = ['<DUMMY>'] * window_size\n",
    "    text  = sample[0] #first tuple containing the sentence; sample[1] contains the tags\n",
    "    padded_text = dummy + list(sample[0]) + dummy\n",
    "    window = list(nltk.ngrams(padded_text, window_size * 2 + 1))\n",
    "    \n",
    "    windows.extend([[list(window[i]), sample[1][i]] for i in range(len(sample[0]))])"
   ]
  },
  {
   "cell_type": "code",
   "execution_count": 15,
   "id": "66786576-2db7-4d6f-9df8-4c13e01c8785",
   "metadata": {},
   "outputs": [],
   "source": [
    "windows = windows[:10000]"
   ]
  },
  {
   "cell_type": "code",
   "execution_count": 16,
   "id": "734bbb41-4198-46c2-860a-bfe9903e560f",
   "metadata": {},
   "outputs": [],
   "source": [
    "import random\n",
    "random.shuffle(windows)\n",
    "\n",
    "train_data = windows[:int(len(windows) * 0.9)]\n",
    "test_data  = windows[int(len(windows) * 0.9):]"
   ]
  },
  {
   "cell_type": "markdown",
   "id": "01a33931-2fe9-4c8b-b4ad-6a5335b54f1a",
   "metadata": {},
   "source": [
    "## 4.1 Prepare batch"
   ]
  },
  {
   "cell_type": "code",
   "execution_count": 17,
   "id": "70d03197-5550-4cb6-a9da-8702cfe8d798",
   "metadata": {},
   "outputs": [],
   "source": [
    "import torch\n",
    "def prepare_sequence(seq, word2index):\n",
    "    idxs = list(map(lambda w: word2index[w] if word2index.get(w) is not None else word2index[\"<UNK>\"], seq))\n",
    "    return torch.LongTensor(idxs)\n",
    "\n",
    "def prepare_tag(tag,tag2index):\n",
    "    return torch.LongTensor([tag2index[tag]])"
   ]
  },
  {
   "cell_type": "code",
   "execution_count": 18,
   "id": "0df60933-3544-43f0-a059-9d5480a20b64",
   "metadata": {},
   "outputs": [],
   "source": [
    "def getBatch(batch_size, train_data):\n",
    "    random.shuffle(train_data)\n",
    "    sindex = 0\n",
    "    eindex = batch_size\n",
    "    while eindex < len(train_data):\n",
    "        batch = train_data[sindex:eindex]\n",
    "        temp  = eindex\n",
    "        eindex = eindex + batch_size\n",
    "        sindex = temp\n",
    "        yield batch\n",
    "        \n",
    "    if eindex >= len(train_data):\n",
    "        batch = train_data[sindex:]\n",
    "        yield batch"
   ]
  },
  {
   "cell_type": "markdown",
   "id": "e67075e1-fc2c-436f-a27e-ea9febf37d81",
   "metadata": {},
   "source": [
    "## 5. Modeling"
   ]
  },
  {
   "cell_type": "code",
   "execution_count": 19,
   "id": "e5d52597-f072-4cb4-938a-5a30d65408f3",
   "metadata": {},
   "outputs": [],
   "source": [
    "import torch.nn as nn\n",
    "\n",
    "class NER(nn.Module):\n",
    "    \n",
    "    def __init__(self, vocab_size, embed_size, hidden_size, window_size, out_size):\n",
    "        super(NER, self).__init__()\n",
    "        \n",
    "        self.embed = nn.Embedding(vocab_size, embed_size)\n",
    "        self.layer1 = nn.Linear(embed_size * (window_size*2+1), hidden_size)\n",
    "        self.layer2 = nn.Linear(hidden_size, out_size) #predict the probability of each tag\n",
    "        self.relu   = nn.ReLU()\n",
    "        self.dropout = nn.Dropout(0.3)\n",
    "    \n",
    "    def forward(self, inputs):\n",
    "        embeds = self.embed(inputs) #(batch_size, 5, emb_size)\n",
    "        embeds = embeds.view(-1, embeds.size(1) * embeds.size(2)) #(batch_size, 5 * emb_size)\n",
    "        h0 = self.dropout(self.relu(self.layer1(embeds)))\n",
    "        out = self.layer2(h0)\n",
    "        return out\n",
    "        "
   ]
  },
  {
   "cell_type": "markdown",
   "id": "335eb1bc-f9c4-4a5b-bdc6-b66fe3528d13",
   "metadata": {},
   "source": [
    "## 6. Training\n",
    "It takes for a while if you use just cpu."
   ]
  },
  {
   "cell_type": "code",
   "execution_count": 20,
   "id": "0438b9be-9115-452e-aaf8-f634c2afc07e",
   "metadata": {},
   "outputs": [],
   "source": [
    "batch_size = 2\n",
    "embed_size = 4\n",
    "hidden_size = 8\n",
    "num_epochs  = 5"
   ]
  },
  {
   "cell_type": "code",
   "execution_count": 21,
   "id": "bb5de556-4a40-4c28-a2ba-f769481896dd",
   "metadata": {},
   "outputs": [],
   "source": [
    "import torch.optim as optim\n",
    "\n",
    "model = NER(len(word2index), embed_size, hidden_size, window_size, len(tag2index))\n",
    "criterion = nn.CrossEntropyLoss()\n",
    "optimizer = optim.Adam(model.parameters(), lr = 0.001)"
   ]
  },
  {
   "cell_type": "code",
   "execution_count": 22,
   "id": "6997a0e5-dbd3-47b1-bfe7-6cde47980db8",
   "metadata": {},
   "outputs": [
    {
     "name": "stdout",
     "output_type": "stream",
     "text": [
      "Epoch: 1 | Batch:  4499 | Loss: 0.817319\n",
      "Epoch: 2 | Batch:  4499 | Loss: 0.658925\n",
      "Epoch: 3 | Batch:  4499 | Loss: 0.618750\n",
      "Epoch: 4 | Batch:  4499 | Loss: 0.579416\n",
      "Epoch: 5 | Batch:  4499 | Loss: 0.537277\n"
     ]
    }
   ],
   "source": [
    "import numpy as np\n",
    "\n",
    "model.train() #turn on dropout\n",
    "\n",
    "for epoch in range(num_epochs):\n",
    "    losses = []\n",
    "    for i, batch in enumerate(getBatch(batch_size, train_data)):\n",
    "        \n",
    "        x,y = list(zip(*batch))\n",
    "        \n",
    "        inputs  = torch.cat([prepare_sequence(sent, word2index).view(1, -1) for sent in x])\n",
    "        targets = torch.cat([prepare_tag(tag, tag2index) for tag in y])\n",
    "        \n",
    "        preds = model(inputs)\n",
    "        loss  = criterion(preds, targets)\n",
    "        losses.append(loss.item())\n",
    "        \n",
    "        model.zero_grad()\n",
    "        loss.backward()\n",
    "        optimizer.step()\n",
    "        \n",
    "    print(f\"Epoch: {epoch + 1} | Batch: {i: 5.0f} | Loss: {np.mean(losses):.6f}\")"
   ]
  },
  {
   "cell_type": "markdown",
   "id": "9c69f791-ed1c-446f-8452-074daa99e6d0",
   "metadata": {},
   "source": [
    "## 7. Test"
   ]
  },
  {
   "cell_type": "code",
   "execution_count": 23,
   "id": "86fc31d7-4b83-4fff-9b13-9b0a8dc981aa",
   "metadata": {},
   "outputs": [],
   "source": [
    "for_f1_score = []"
   ]
  },
  {
   "cell_type": "code",
   "execution_count": 24,
   "id": "cd35dfb6-a779-49e7-87ec-5bfa79509ff7",
   "metadata": {},
   "outputs": [
    {
     "name": "stdout",
     "output_type": "stream",
     "text": [
      "85.8\n"
     ]
    }
   ],
   "source": [
    "accuracy = 0\n",
    "\n",
    "model.eval() #this will turn off dropout\n",
    "\n",
    "for test in test_data:\n",
    "    x, y = test[0], test[1]\n",
    "    input = prepare_sequence(x, word2index).view(1, -1)\n",
    "    preds = model(input) #(batch_size, probability over all tagset)\n",
    "    \n",
    "    i = preds.max(1)[1]\n",
    "    pred = index2tag[i.item()]\n",
    "    for_f1_score.append([pred, y])\n",
    "    if pred == y:\n",
    "        accuracy += 1\n",
    "    \n",
    "print(accuracy / len(test_data) * 100)"
   ]
  },
  {
   "cell_type": "markdown",
   "id": "59a01578-a1fd-483b-90ed-5ceff800fa2e",
   "metadata": {},
   "source": [
    "This high score is because most of labels are 'O' tag. So we need to measure f1 score.\n",
    "\n",
    "f1-score"
   ]
  },
  {
   "cell_type": "code",
   "execution_count": 25,
   "id": "e0e82301-8c2a-4a9d-b9d9-6231a22d5608",
   "metadata": {},
   "outputs": [],
   "source": [
    "yhat, y = list(zip(*for_f1_score))"
   ]
  },
  {
   "cell_type": "code",
   "execution_count": 26,
   "id": "fa09b93f-51f1-480d-bde8-63678c178f90",
   "metadata": {},
   "outputs": [
    {
     "data": {
      "text/plain": [
       "{'O'}"
      ]
     },
     "execution_count": 26,
     "metadata": {},
     "output_type": "execute_result"
    }
   ],
   "source": [
    "set(yhat)"
   ]
  },
  {
   "cell_type": "code",
   "execution_count": 27,
   "id": "f541916f-d242-45de-93c8-a4b1bdb9fe6b",
   "metadata": {},
   "outputs": [
    {
     "name": "stdout",
     "output_type": "stream",
     "text": [
      "              precision    recall  f1-score   support\n",
      "\n",
      "       B-LOC       0.00      0.00      0.00         0\n",
      "      B-MISC       0.00      0.00      0.00         0\n",
      "       B-ORG       0.00      0.00      0.00         0\n",
      "       B-PER       0.00      0.00      0.00         0\n",
      "       I-LOC       0.00      0.00      0.00         0\n",
      "      I-MISC       0.00      0.00      0.00         0\n",
      "       I-ORG       0.00      0.00      0.00         0\n",
      "       I-PER       0.00      0.00      0.00         0\n",
      "           O       1.00      0.86      0.92      1000\n",
      "\n",
      "    accuracy                           0.86      1000\n",
      "   macro avg       0.11      0.10      0.10      1000\n",
      "weighted avg       1.00      0.86      0.92      1000\n",
      "\n"
     ]
    },
    {
     "name": "stderr",
     "output_type": "stream",
     "text": [
      "/home/jyoti/.local/lib/python3.10/site-packages/sklearn/metrics/_classification.py:1509: UndefinedMetricWarning: Recall is ill-defined and being set to 0.0 in labels with no true samples. Use `zero_division` parameter to control this behavior.\n",
      "  _warn_prf(average, modifier, f\"{metric.capitalize()} is\", len(result))\n",
      "/home/jyoti/.local/lib/python3.10/site-packages/sklearn/metrics/_classification.py:1509: UndefinedMetricWarning: Recall is ill-defined and being set to 0.0 in labels with no true samples. Use `zero_division` parameter to control this behavior.\n",
      "  _warn_prf(average, modifier, f\"{metric.capitalize()} is\", len(result))\n",
      "/home/jyoti/.local/lib/python3.10/site-packages/sklearn/metrics/_classification.py:1509: UndefinedMetricWarning: Recall is ill-defined and being set to 0.0 in labels with no true samples. Use `zero_division` parameter to control this behavior.\n",
      "  _warn_prf(average, modifier, f\"{metric.capitalize()} is\", len(result))\n"
     ]
    }
   ],
   "source": [
    "from sklearn import metrics\n",
    "\n",
    "print(metrics.classification_report(yhat, y))"
   ]
  },
  {
   "cell_type": "code",
   "execution_count": null,
   "id": "02014e81-40c7-4fb9-beaa-87f3f3261b51",
   "metadata": {},
   "outputs": [],
   "source": []
  },
  {
   "cell_type": "code",
   "execution_count": null,
   "id": "804a615e-6809-4042-b6a2-1c90a3008155",
   "metadata": {},
   "outputs": [],
   "source": []
  }
 ],
 "metadata": {
  "kernelspec": {
   "display_name": "Python 3 (ipykernel)",
   "language": "python",
   "name": "python3"
  },
  "language_info": {
   "codemirror_mode": {
    "name": "ipython",
    "version": 3
   },
   "file_extension": ".py",
   "mimetype": "text/x-python",
   "name": "python",
   "nbconvert_exporter": "python",
   "pygments_lexer": "ipython3",
   "version": "3.10.12"
  }
 },
 "nbformat": 4,
 "nbformat_minor": 5
}
