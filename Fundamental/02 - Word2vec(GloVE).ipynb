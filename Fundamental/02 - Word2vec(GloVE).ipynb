{
 "cells": [
  {
   "cell_type": "markdown",
   "id": "4e22635a-5366-4163-8a60-a2d7aa1ce036",
   "metadata": {},
   "source": [
    "# Word2vec(GloVE)\n",
    "- GloVe (Global Vectors for Word Representation) is an unsupervised learning algorithm for obtaining vector representations for words.\n",
    "\n",
    "- GloVe is designed to capture both the global statistical information of a corpus and the local context of words.\n",
    "\n",
    "\n",
    "\n",
    "Let's work on implementation of GloVE."
   ]
  },
  {
   "cell_type": "code",
   "execution_count": 1,
   "id": "71b60e3f-eb9d-4242-9f37-faf2f167f35d",
   "metadata": {},
   "outputs": [],
   "source": [
    "import numpy as np\n",
    "import torch\n",
    "import torch.nn as nn\n",
    "import torch.optim as optim\n",
    "import matplotlib.pyplot as plt"
   ]
  },
  {
   "cell_type": "code",
   "execution_count": 2,
   "id": "1340e2e5-196f-4900-b3c2-c0365f406a39",
   "metadata": {},
   "outputs": [
    {
     "data": {
      "text/plain": [
       "('1.26.4', '2.2.2+cu121')"
      ]
     },
     "execution_count": 2,
     "metadata": {},
     "output_type": "execute_result"
    }
   ],
   "source": [
    "np.__version__, torch.__version__\n"
   ]
  },
  {
   "cell_type": "code",
   "execution_count": 3,
   "id": "200e879a-f49a-4f6b-bbd7-cdc5268807eb",
   "metadata": {},
   "outputs": [
    {
     "data": {
      "text/plain": [
       "'3.9.1'"
      ]
     },
     "execution_count": 3,
     "metadata": {},
     "output_type": "execute_result"
    }
   ],
   "source": [
    "import matplotlib\n",
    "matplotlib.__version__"
   ]
  },
  {
   "cell_type": "markdown",
   "id": "0c4296dd-4e9c-437d-96be-2f6da1cd219e",
   "metadata": {},
   "source": [
    "## 1. Load data"
   ]
  },
  {
   "cell_type": "code",
   "execution_count": 70,
   "id": "08bd2a07-1e3c-4f02-8e32-5d1760b91a6b",
   "metadata": {},
   "outputs": [],
   "source": [
    "corpus = [\"apple banana fruit\", \"banana apple fruit\", \"banana fruit apple\",\n",
    "                 \"dog cat animal\", \"cat animal dog\", \"cat dog animal\"]"
   ]
  },
  {
   "cell_type": "code",
   "execution_count": 71,
   "id": "e9cf4eff-ecea-42d8-8b4f-3c016d046b20",
   "metadata": {},
   "outputs": [
    {
     "data": {
      "text/plain": [
       "[['apple', 'banana', 'fruit'],\n",
       " ['banana', 'apple', 'fruit'],\n",
       " ['banana', 'fruit', 'apple'],\n",
       " ['dog', 'cat', 'animal'],\n",
       " ['cat', 'animal', 'dog'],\n",
       " ['cat', 'dog', 'animal']]"
      ]
     },
     "execution_count": 71,
     "metadata": {},
     "output_type": "execute_result"
    }
   ],
   "source": [
    "#1. tokenization\n",
    "corpus = [sent.split(\" \") for sent in corpus]\n",
    "corpus"
   ]
  },
  {
   "cell_type": "code",
   "execution_count": 72,
   "id": "11b3432b-a651-43f2-92a8-080b6bb77785",
   "metadata": {},
   "outputs": [
    {
     "data": {
      "text/plain": [
       "['apple',\n",
       " 'banana',\n",
       " 'fruit',\n",
       " 'banana',\n",
       " 'apple',\n",
       " 'fruit',\n",
       " 'banana',\n",
       " 'fruit',\n",
       " 'apple',\n",
       " 'dog',\n",
       " 'cat',\n",
       " 'animal',\n",
       " 'cat',\n",
       " 'animal',\n",
       " 'dog',\n",
       " 'cat',\n",
       " 'dog',\n",
       " 'animal']"
      ]
     },
     "execution_count": 72,
     "metadata": {},
     "output_type": "execute_result"
    }
   ],
   "source": [
    "# 2. numeralization\n",
    "# find uniques word\n",
    "flatten = lambda l: [item for sublists in l for item in sublists]\n",
    "flatten(corpus)"
   ]
  },
  {
   "cell_type": "code",
   "execution_count": 73,
   "id": "9b61c2c3-e4be-458b-bec9-c766dbe3390f",
   "metadata": {},
   "outputs": [
    {
     "data": {
      "text/plain": [
       "['dog', 'fruit', 'animal', 'apple', 'banana', 'cat']"
      ]
     },
     "execution_count": 73,
     "metadata": {},
     "output_type": "execute_result"
    }
   ],
   "source": [
    "# assign unique integer\n",
    "vocabs = list(set(flatten(corpus))) # all the words we have in the system - <UNK>\n",
    "vocabs"
   ]
  },
  {
   "cell_type": "code",
   "execution_count": 74,
   "id": "55822714-ae21-430e-8479-ed1fb8ac5154",
   "metadata": {},
   "outputs": [
    {
     "data": {
      "text/plain": [
       "{'dog': 0, 'fruit': 1, 'animal': 2, 'apple': 3, 'banana': 4, 'cat': 5}"
      ]
     },
     "execution_count": 74,
     "metadata": {},
     "output_type": "execute_result"
    }
   ],
   "source": [
    "#create handy mapping between integer and word\n",
    "word2index = {v:idx for idx, v in enumerate(vocabs)}\n",
    "word2index"
   ]
  },
  {
   "cell_type": "code",
   "execution_count": 75,
   "id": "a845a197-bc6e-4a5f-95db-dd4120adbdd9",
   "metadata": {},
   "outputs": [
    {
     "name": "stdout",
     "output_type": "stream",
     "text": [
      "6\n"
     ]
    }
   ],
   "source": [
    "#vocab size\n",
    "voc_size = len(vocabs)\n",
    "print(voc_size)"
   ]
  },
  {
   "cell_type": "code",
   "execution_count": 76,
   "id": "8a8bbb49-7cfd-48ee-9777-708d10d5209f",
   "metadata": {},
   "outputs": [],
   "source": [
    "vocabs.append('<UNK>')\n",
    "word2index['<UNK>'] = 0"
   ]
  },
  {
   "cell_type": "code",
   "execution_count": 77,
   "id": "d3069430-b8cf-4130-8672-89110818888f",
   "metadata": {},
   "outputs": [
    {
     "data": {
      "text/plain": [
       "{0: '<UNK>', 1: 'fruit', 2: 'animal', 3: 'apple', 4: 'banana', 5: 'cat'}"
      ]
     },
     "execution_count": 77,
     "metadata": {},
     "output_type": "execute_result"
    }
   ],
   "source": [
    "index2word = {v:k for k, v in word2index.items()}\n",
    "index2word"
   ]
  },
  {
   "cell_type": "markdown",
   "id": "3ae39623-b2e7-454c-98d1-7b73ca0f8966",
   "metadata": {},
   "source": [
    "## 2. Build Co-occurence Matrix X\n",
    "\n",
    "Here, we need to count the co-occurence of two words given some window size. We gonna use window size of 1."
   ]
  },
  {
   "cell_type": "code",
   "execution_count": 78,
   "id": "ffc9b0a0-0ed1-48d0-b2b4-9693593dce89",
   "metadata": {},
   "outputs": [
    {
     "data": {
      "text/plain": [
       "Counter({'apple': 3, 'banana': 3, 'fruit': 3, 'dog': 3, 'cat': 3, 'animal': 3})"
      ]
     },
     "execution_count": 78,
     "metadata": {},
     "output_type": "execute_result"
    }
   ],
   "source": [
    "from collections import Counter\n",
    "\n",
    "X_i = Counter(flatten(corpus)) # X_i\n",
    "X_i"
   ]
  },
  {
   "cell_type": "code",
   "execution_count": 79,
   "id": "24fa0b6d-5604-4933-9861-b930b7f7128c",
   "metadata": {},
   "outputs": [
    {
     "data": {
      "text/plain": [
       "[('banana', 'apple'),\n",
       " ('banana', 'fruit'),\n",
       " ('apple', 'banana'),\n",
       " ('apple', 'fruit'),\n",
       " ('fruit', 'banana'),\n",
       " ('fruit', 'apple'),\n",
       " ('cat', 'dog'),\n",
       " ('cat', 'animal'),\n",
       " ('animal', 'cat'),\n",
       " ('animal', 'dog'),\n",
       " ('dog', 'cat'),\n",
       " ('dog', 'animal')]"
      ]
     },
     "execution_count": 79,
     "metadata": {},
     "output_type": "execute_result"
    }
   ],
   "source": [
    "# Make skip gram of one size window\n",
    "skip_grams = []\n",
    "# loop each word sequence\n",
    "# we starts from 1 because 0 has no context\n",
    "# we stop at second last for the same reason\n",
    "for sent in corpus:\n",
    "    for i in range(1, len(sent) - 1):\n",
    "        target = sent[i]\n",
    "        context = [sent[i - 1], sent[i + 1]]\n",
    "        for w in context:\n",
    "            skip_grams.append((target, w))\n",
    "\n",
    "skip_grams"
   ]
  },
  {
   "cell_type": "code",
   "execution_count": 80,
   "id": "5a73b5ff-dafc-4563-a439-bfbae35c5871",
   "metadata": {},
   "outputs": [
    {
     "data": {
      "text/plain": [
       "Counter({('banana', 'apple'): 1,\n",
       "         ('banana', 'fruit'): 1,\n",
       "         ('apple', 'banana'): 1,\n",
       "         ('apple', 'fruit'): 1,\n",
       "         ('fruit', 'banana'): 1,\n",
       "         ('fruit', 'apple'): 1,\n",
       "         ('cat', 'dog'): 1,\n",
       "         ('cat', 'animal'): 1,\n",
       "         ('animal', 'cat'): 1,\n",
       "         ('animal', 'dog'): 1,\n",
       "         ('dog', 'cat'): 1,\n",
       "         ('dog', 'animal'): 1})"
      ]
     },
     "execution_count": 80,
     "metadata": {},
     "output_type": "execute_result"
    }
   ],
   "source": [
    "X_ik_skipgram = Counter(skip_grams) # Co-occurece in window size 1\n",
    "X_ik_skipgram"
   ]
  },
  {
   "cell_type": "markdown",
   "id": "1cb19e31-7283-4fcf-8fc1-4056b9cbc135",
   "metadata": {},
   "source": [
    "**GloVe include a weighting function to scale down too frequent words.**"
   ]
  },
  {
   "cell_type": "code",
   "execution_count": 81,
   "id": "ab1e2d1f-cba5-48cc-9907-73a5478fc41b",
   "metadata": {},
   "outputs": [],
   "source": [
    "#simply a normalized function...\n",
    "def weighting(w_i, w_j, X_ik):\n",
    "        \n",
    "    #check whether the co-occurrences exist between these two words\n",
    "    try:\n",
    "        x_ij = X_ik[(w_i, w_j)]\n",
    "    except:\n",
    "        x_ij = 1  #if does not exist, set it to 1\n",
    "                \n",
    "    x_max = 100 #100 # fixed in paper  #cannot exceed 100 counts\n",
    "    alpha = 0.75\n",
    "    \n",
    "    #if co-occurrence does not exceed 100, scale it based on some alpha\n",
    "    if x_ij < x_max:\n",
    "        result = (x_ij/x_max)**alpha  #scale it\n",
    "    else:\n",
    "        result = 1  #if is greater than max, set it to 1 maximum\n",
    "    \n",
    "    return result"
   ]
  },
  {
   "cell_type": "code",
   "execution_count": 82,
   "id": "61b6e823-098c-41de-9aa0-29aac920a739",
   "metadata": {},
   "outputs": [
    {
     "name": "stdout",
     "output_type": "stream",
     "text": [
      "X_ik={('dog', 'animal'): 2, ('animal', 'dog'): 2, ('dog', 'cat'): 2, ('cat', 'dog'): 2, ('fruit', 'apple'): 2, ('apple', 'fruit'): 2, ('fruit', 'banana'): 2, ('banana', 'fruit'): 2, ('animal', 'cat'): 2, ('cat', 'animal'): 2, ('apple', 'banana'): 2, ('banana', 'apple'): 2}\n",
      "weighting_dic={('dog', 'dog'): 0.03162277660168379, ('dog', 'fruit'): 0.03162277660168379, ('fruit', 'dog'): 0.03162277660168379, ('dog', 'animal'): 0.053182958969449884, ('animal', 'dog'): 0.053182958969449884, ('dog', 'apple'): 0.03162277660168379, ('apple', 'dog'): 0.03162277660168379, ('dog', 'banana'): 0.03162277660168379, ('banana', 'dog'): 0.03162277660168379, ('dog', 'cat'): 0.053182958969449884, ('cat', 'dog'): 0.053182958969449884, ('dog', '<UNK>'): 0.03162277660168379, ('<UNK>', 'dog'): 0.03162277660168379, ('fruit', 'fruit'): 0.03162277660168379, ('fruit', 'animal'): 0.03162277660168379, ('animal', 'fruit'): 0.03162277660168379, ('fruit', 'apple'): 0.053182958969449884, ('apple', 'fruit'): 0.053182958969449884, ('fruit', 'banana'): 0.053182958969449884, ('banana', 'fruit'): 0.053182958969449884, ('fruit', 'cat'): 0.03162277660168379, ('cat', 'fruit'): 0.03162277660168379, ('fruit', '<UNK>'): 0.03162277660168379, ('<UNK>', 'fruit'): 0.03162277660168379, ('animal', 'animal'): 0.03162277660168379, ('animal', 'apple'): 0.03162277660168379, ('apple', 'animal'): 0.03162277660168379, ('animal', 'banana'): 0.03162277660168379, ('banana', 'animal'): 0.03162277660168379, ('animal', 'cat'): 0.053182958969449884, ('cat', 'animal'): 0.053182958969449884, ('animal', '<UNK>'): 0.03162277660168379, ('<UNK>', 'animal'): 0.03162277660168379, ('apple', 'apple'): 0.03162277660168379, ('apple', 'banana'): 0.053182958969449884, ('banana', 'apple'): 0.053182958969449884, ('apple', 'cat'): 0.03162277660168379, ('cat', 'apple'): 0.03162277660168379, ('apple', '<UNK>'): 0.03162277660168379, ('<UNK>', 'apple'): 0.03162277660168379, ('banana', 'banana'): 0.03162277660168379, ('banana', 'cat'): 0.03162277660168379, ('cat', 'banana'): 0.03162277660168379, ('banana', '<UNK>'): 0.03162277660168379, ('<UNK>', 'banana'): 0.03162277660168379, ('cat', 'cat'): 0.03162277660168379, ('cat', '<UNK>'): 0.03162277660168379, ('<UNK>', 'cat'): 0.03162277660168379, ('<UNK>', '<UNK>'): 0.03162277660168379}\n"
     ]
    }
   ],
   "source": [
    "from itertools import combinations_with_replacement\n",
    "\n",
    "X_ik = {}  #for keeping the co-occurences\n",
    "weighting_dic = {} #scaling the percentage of sampling\n",
    "\n",
    "for bigram in combinations_with_replacement(vocabs, 2):\n",
    "    if X_ik_skipgram.get(bigram) is not None:  #matches \n",
    "        co_occer = X_ik_skipgram[bigram]  #get the count from what we already counted\n",
    "        X_ik[bigram] = co_occer + 1 # + 1 for stability issue\n",
    "        X_ik[(bigram[1],bigram[0])] = co_occer+1   #count also for the opposite\n",
    "    else:\n",
    "        pass\n",
    "        \n",
    "    weighting_dic[bigram] = weighting(bigram[0], bigram[1], X_ik)\n",
    "    weighting_dic[(bigram[1], bigram[0])] = weighting(bigram[1], bigram[0], X_ik)\n",
    "\n",
    "print(f\"{X_ik=}\")\n",
    "print(f\"{weighting_dic=}\")"
   ]
  },
  {
   "cell_type": "markdown",
   "id": "fc7c0102-c003-4fa1-a52a-5b7c333e2199",
   "metadata": {},
   "source": [
    "## 3. Prepare train data"
   ]
  },
  {
   "cell_type": "code",
   "execution_count": 83,
   "id": "11fe22ef-eb2a-4589-91e2-b03de21a6abf",
   "metadata": {},
   "outputs": [],
   "source": [
    "import math\n",
    "\n",
    "def random_batch(batch_size, word_sequence, skip_grams, X_ik, weighting_dic):\n",
    "    \n",
    "    #convert to id since our skip_grams is word, not yet id\n",
    "    skip_grams_id = [(word2index[skip_gram[0]], word2index[skip_gram[1]]) for skip_gram in skip_grams]\n",
    "    \n",
    "    random_inputs = []\n",
    "    random_labels = []\n",
    "    random_coocs  = []\n",
    "    random_weightings = []\n",
    "    random_index = np.random.choice(range(len(skip_grams_id)), batch_size, replace=False) #randomly pick without replacement\n",
    "        \n",
    "    for i in random_index:\n",
    "        random_inputs.append([skip_grams_id[i][0]])  # target, e.g., 2\n",
    "        random_labels.append([skip_grams_id[i][1]])  # context word, e.g., 3\n",
    "        \n",
    "        #get cooc\n",
    "        pair = skip_grams[i]\n",
    "        try:\n",
    "            cooc = X_ik[pair]\n",
    "        except:\n",
    "            cooc = 1\n",
    "        random_coocs.append([math.log(cooc)])\n",
    "        \n",
    "        #get weighting\n",
    "        weighting = weighting_dic[pair]\n",
    "        random_weightings.append([weighting])\n",
    "                    \n",
    "    return np.array(random_inputs), np.array(random_labels), np.array(random_coocs), np.array(random_weightings)"
   ]
  },
  {
   "cell_type": "markdown",
   "id": "e4f8dfab-0ed4-48e3-b816-111d790ae3d5",
   "metadata": {},
   "source": [
    "### Test the method"
   ]
  },
  {
   "cell_type": "code",
   "execution_count": 84,
   "id": "20a634c4-bc57-44be-8078-56d95bf48f32",
   "metadata": {},
   "outputs": [
    {
     "name": "stdout",
     "output_type": "stream",
     "text": [
      "Input:  [[4]\n",
      " [3]]\n",
      "Target:  [[1]\n",
      " [1]]\n",
      "Cooc:  [[0.69314718]\n",
      " [0.69314718]]\n",
      "Weighting:  [[0.05318296]\n",
      " [0.05318296]]\n"
     ]
    }
   ],
   "source": [
    "#testing the method\n",
    "batch_size = 2 # mini-batch size\n",
    "input_batch, target_batch, cooc_batch, weighting_batch = random_batch(batch_size, corpus, skip_grams, X_ik, weighting_dic)\n",
    "\n",
    "print(\"Input: \", input_batch)\n",
    "print(\"Target: \", target_batch)\n",
    "print(\"Cooc: \", cooc_batch)\n",
    "print(\"Weighting: \", weighting_batch)\n",
    "\n",
    "#we will convert them to tensor during training, so don't worry..."
   ]
  },
  {
   "cell_type": "code",
   "execution_count": 85,
   "id": "3f129e6e-9e6f-4cec-b43f-99e2c8fbcee6",
   "metadata": {},
   "outputs": [
    {
     "data": {
      "text/plain": [
       "'fruit'"
      ]
     },
     "execution_count": 85,
     "metadata": {},
     "output_type": "execute_result"
    }
   ],
   "source": [
    "index2word[1] # input"
   ]
  },
  {
   "cell_type": "code",
   "execution_count": 86,
   "id": "bebe79e4-0900-43de-9219-82417d6723e0",
   "metadata": {},
   "outputs": [
    {
     "data": {
      "text/plain": [
       "'apple'"
      ]
     },
     "execution_count": 86,
     "metadata": {},
     "output_type": "execute_result"
    }
   ],
   "source": [
    "index2word[3] # target"
   ]
  },
  {
   "cell_type": "markdown",
   "id": "ff7e579b-7c90-4b73-baf0-2b2e22894897",
   "metadata": {},
   "source": [
    "## 4. Model\n",
    "\n",
    "The GloVe model is trained using the following objective function:\n",
    "\n",
    "$$\n",
    "J = \\sum_{i,j=1}^{V} f(X_{ij}) \\left( w_i^T \\tilde{w}_j + b_i + \\tilde{b}_j - \\log X_{ij} \\right)^2\n",
    "$$\n",
    "\n",
    "Here, $w_i$ and $\\tilde{w}_j$ are the word vectors for the words $i$ and $j$ respectively, $b_i$ and $\\tilde{b}_j$ are biases, $X_{ij}$ is the co-occurrence count, and $f(X_{ij})$ is a weighting function that reduces the impact of very frequent co-occurrences.\n"
   ]
  },
  {
   "cell_type": "code",
   "execution_count": 87,
   "id": "09e5cd36-eb3f-45e7-aa9c-3923abbf3478",
   "metadata": {},
   "outputs": [],
   "source": [
    "class GloVe(nn.Module):\n",
    "    \n",
    "    def __init__(self, vocab_size,embed_size):\n",
    "        super(GloVe,self).__init__()\n",
    "        self.center_embedding = nn.Embedding(vocab_size, embed_size) # center embedding\n",
    "        self.outside_embedding = nn.Embedding(vocab_size, embed_size) # out embedding\n",
    "        \n",
    "        self.center_bias = nn.Embedding(vocab_size, 1)\n",
    "        self.outside_bias = nn.Embedding(vocab_size, 1)\n",
    "        \n",
    "    def forward(self, center_words, target_words, coocs, weighting):\n",
    "        center_embeds = self.center_embedding(center_words) # [batch_size, 1, emb_size]\n",
    "        target_embeds = self.outside_embedding(target_words) # [batch_size, 1, emb_size]\n",
    "        \n",
    "        center_bias = self.center_bias(center_words).squeeze(1)\n",
    "        target_bias = self.outside_bias(target_words).squeeze(1)\n",
    "        \n",
    "        inner_product = target_embeds.bmm(center_embeds.transpose(1, 2)).squeeze(2)\n",
    "        #[batch_size, 1, emb_size] @ [batch_size, emb_size, 1] = [batch_size, 1, 1] = [batch_size, 1]\n",
    "        \n",
    "        #note that coocs already got log\n",
    "        loss = weighting*torch.pow(inner_product +center_bias + target_bias - coocs, 2)\n",
    "        \n",
    "        return torch.sum(loss)"
   ]
  },
  {
   "cell_type": "markdown",
   "id": "c23d0385-4d7d-4f4b-b647-a19b1c8a8c0e",
   "metadata": {},
   "source": [
    "## 5. Training"
   ]
  },
  {
   "cell_type": "code",
   "execution_count": 88,
   "id": "47df1d0f-29ce-47c3-92fa-516ca6929561",
   "metadata": {},
   "outputs": [],
   "source": [
    "batch_size     = 10 # mini-batch size\n",
    "embedding_size = 2 #so we can later plot\n",
    "model          = GloVe(voc_size, embedding_size)\n",
    "\n",
    "criterion = nn.CrossEntropyLoss()\n",
    "optimizer = optim.Adam(model.parameters(), lr=0.001)"
   ]
  },
  {
   "cell_type": "code",
   "execution_count": 89,
   "id": "fe013c37-8240-4938-8b38-f8de379e2273",
   "metadata": {},
   "outputs": [],
   "source": [
    "def epoch_time(start_time, end_time):\n",
    "    elapsed_time = end_time - start_time\n",
    "    elapsed_mins = int(elapsed_time / 60)\n",
    "    elapsed_secs = int(elapsed_time - (elapsed_mins * 60))\n",
    "    return elapsed_mins, elapsed_secs"
   ]
  },
  {
   "cell_type": "code",
   "execution_count": 90,
   "id": "2c153021-266b-4fac-877d-4dd70c18a6ba",
   "metadata": {},
   "outputs": [
    {
     "name": "stdout",
     "output_type": "stream",
     "text": [
      "Epoch: 1000 | cost: 0.029836 | time: 0m 0s\n",
      "Epoch: 2000 | cost: 0.000780 | time: 0m 0s\n",
      "Epoch: 3000 | cost: 0.000044 | time: 0m 0s\n",
      "Epoch: 4000 | cost: 0.000001 | time: 0m 0s\n",
      "Epoch: 5000 | cost: 0.000000 | time: 0m 0s\n"
     ]
    }
   ],
   "source": [
    "import time\n",
    "\n",
    "# Training\n",
    "num_epochs = 5000\n",
    "for epoch in range(num_epochs):\n",
    "    \n",
    "    start = time.time()\n",
    "    \n",
    "    input_batch, target_batch, cooc_batch, weighting_batch = random_batch(batch_size, corpus, skip_grams, X_ik, weighting_dic)\n",
    "    input_batch  = torch.LongTensor(input_batch)         #[batch_size, 1]\n",
    "    target_batch = torch.LongTensor(target_batch)        #[batch_size, 1]\n",
    "    cooc_batch   = torch.FloatTensor(cooc_batch)         #[batch_size, 1]\n",
    "    weighting_batch = torch.FloatTensor(weighting_batch) #[batch_size, 1]\n",
    "    \n",
    "    optimizer.zero_grad()\n",
    "    loss = model(input_batch, target_batch, cooc_batch, weighting_batch)\n",
    "    \n",
    "    loss.backward()\n",
    "    optimizer.step()\n",
    "    \n",
    "    end = time.time()\n",
    "    \n",
    "    epoch_mins, epoch_secs = epoch_time(start, end)\n",
    "\n",
    "    if (epoch + 1) % 1000 == 0:\n",
    "        print(f\"Epoch: {epoch + 1} | cost: {loss:.6f} | time: {epoch_mins}m {epoch_secs}s\")"
   ]
  },
  {
   "cell_type": "markdown",
   "id": "02ae210c-a367-4d72-9677-32c62c21f8ce",
   "metadata": {},
   "source": [
    "## 6. Plotting the embeddings"
   ]
  },
  {
   "cell_type": "code",
   "execution_count": 91,
   "id": "b9454f5a-02ae-45ee-9f92-1a58e0ead78d",
   "metadata": {},
   "outputs": [
    {
     "data": {
      "text/plain": [
       "['dog', 'fruit', 'animal', 'apple', 'banana', 'cat', '<UNK>']"
      ]
     },
     "execution_count": 91,
     "metadata": {},
     "output_type": "execute_result"
    }
   ],
   "source": [
    "#list of vocabs\n",
    "vocabs[:10]"
   ]
  },
  {
   "cell_type": "code",
   "execution_count": 92,
   "id": "3da81d08-1d34-4d07-b4b3-8844b5f80662",
   "metadata": {},
   "outputs": [],
   "source": [
    "word = vocabs[0]"
   ]
  },
  {
   "cell_type": "code",
   "execution_count": 93,
   "id": "6045385a-ff1e-465d-af60-c5acec4ec247",
   "metadata": {},
   "outputs": [
    {
     "data": {
      "text/plain": [
       "0"
      ]
     },
     "execution_count": 93,
     "metadata": {},
     "output_type": "execute_result"
    }
   ],
   "source": [
    "#numericalization\n",
    "id = word2index[word]\n",
    "id"
   ]
  },
  {
   "cell_type": "code",
   "execution_count": 94,
   "id": "31374255-e8a6-4aaa-b433-1af5d9d7603b",
   "metadata": {},
   "outputs": [
    {
     "data": {
      "text/plain": [
       "tensor([0])"
      ]
     },
     "execution_count": 94,
     "metadata": {},
     "output_type": "execute_result"
    }
   ],
   "source": [
    "id_tensor = torch.LongTensor([id])\n",
    "id_tensor"
   ]
  },
  {
   "cell_type": "code",
   "execution_count": 95,
   "id": "f0be822f-73cf-4deb-b518-f1385c50e5c2",
   "metadata": {},
   "outputs": [
    {
     "data": {
      "text/plain": [
       "(tensor([[0.4000, 0.6566]], grad_fn=<EmbeddingBackward0>),\n",
       " tensor([[ 1.8759, -0.2015]], grad_fn=<EmbeddingBackward0>))"
      ]
     },
     "execution_count": 95,
     "metadata": {},
     "output_type": "execute_result"
    }
   ],
   "source": [
    "#get the embedding by averaging\n",
    "center_embed = model.center_embedding(id_tensor)\n",
    "outside_embed = model.outside_embedding(id_tensor)\n",
    "\n",
    "center_embed, outside_embed"
   ]
  },
  {
   "cell_type": "code",
   "execution_count": 96,
   "id": "efd90254-0da9-4e7e-b58a-ae367e50c878",
   "metadata": {},
   "outputs": [
    {
     "data": {
      "text/plain": [
       "tensor(0.2276, grad_fn=<SelectBackward0>)"
      ]
     },
     "execution_count": 96,
     "metadata": {},
     "output_type": "execute_result"
    }
   ],
   "source": [
    "#average to get the word embedding\n",
    "word_embed = (center_embed + outside_embed) / 2\n",
    "word_embed[0][1]"
   ]
  },
  {
   "cell_type": "code",
   "execution_count": 97,
   "id": "20eedd0e-e8be-4c18-b632-e1988f7e2e01",
   "metadata": {},
   "outputs": [],
   "source": [
    "#let's write a function to get embedding given a word\n",
    "def get_embed(word):\n",
    "    id_tensor = torch.LongTensor([word2index[word]])\n",
    "    center_embed = model.center_embedding(id_tensor)\n",
    "    outside_embed = model.outside_embedding(id_tensor)\n",
    "    word_embed = (center_embed + outside_embed) / 2\n",
    "    x, y = word_embed[0][0].item(), word_embed[0][1].item()\n",
    "\n",
    "    return x, y"
   ]
  },
  {
   "cell_type": "code",
   "execution_count": 98,
   "id": "838e086f-d9f4-4be0-aa79-e185d9101565",
   "metadata": {},
   "outputs": [
    {
     "data": {
      "image/png": "[encoded data removed]",
      "text/plain": [
       "<Figure size 600x300 with 1 Axes>"
      ]
     },
     "metadata": {},
     "output_type": "display_data"
    }
   ],
   "source": [
    "plt.figure(figsize=(6,3))\n",
    "for i, word in enumerate(vocabs[:20]): #loop each unique vocab\n",
    "    x, y = get_embed(word)\n",
    "    plt.scatter(x, y)\n",
    "    plt.annotate(word, xy=(x, y), xytext=(5, 2), textcoords='offset points')\n",
    "plt.show()"
   ]
  },
  {
   "cell_type": "markdown",
   "id": "08e31a38-b8fb-4fec-8313-dcee4b18f2ba",
   "metadata": {},
   "source": [
    "## 6. Cosine similarity\n",
    "\n",
    "Formally the Cosine Similarity between two vectors and is defined as:\n",
    "$$\n",
    "s = \\frac{p \\cdot q}{\\|p\\| \\|q\\|}, \\text{ where } s \\in [-1, 1]\n",
    "$$\n",
    "\n",
    "If 'p' and 'q' is super similar, the result is 1 otherwise 0."
   ]
  },
  {
   "cell_type": "code",
   "execution_count": 99,
   "id": "1304ad5b-6885-4e8c-890d-60e6c3705230",
   "metadata": {},
   "outputs": [
    {
     "data": {
      "text/plain": [
       "['dog', 'fruit', 'animal', 'apple', 'banana', 'cat', '<UNK>']"
      ]
     },
     "execution_count": 99,
     "metadata": {},
     "output_type": "execute_result"
    }
   ],
   "source": [
    "vocabs"
   ]
  },
  {
   "cell_type": "code",
   "execution_count": 100,
   "id": "60e1030b-f033-4c99-812d-6506f5b0f93e",
   "metadata": {},
   "outputs": [],
   "source": [
    "#let's try similarity between first and second, and second and third\n",
    "cat          = get_embed('cat')\n",
    "fruit        = get_embed('fruit')\n",
    "animal       = get_embed('animal')"
   ]
  },
  {
   "cell_type": "code",
   "execution_count": 101,
   "id": "780f58ee-54a5-4eb2-ba9e-424123adafe6",
   "metadata": {},
   "outputs": [
    {
     "name": "stdout",
     "output_type": "stream",
     "text": [
      "cat vs. fruit:  0.35840646132885123\n",
      "cat vs. animal:  0.9883091119352355\n",
      "cat vs. cat:  1.0\n"
     ]
    }
   ],
   "source": [
    "#numpy version\n",
    "from numpy import dot\n",
    "from numpy.linalg import norm\n",
    "\n",
    "def cos_sim(a, b):\n",
    "    cos_sim = dot(a, b)/(norm(a)*norm(b))\n",
    "    return cos_sim\n",
    "    \n",
    "print(f\"cat vs. fruit: \",        cos_sim(cat, fruit))\n",
    "print(f\"cat vs. animal: \",       cos_sim(cat, animal))\n",
    "print(f\"cat vs. cat: \",          cos_sim(cat, cat))"
   ]
  },
  {
   "cell_type": "code",
   "execution_count": 102,
   "id": "65dec0fa-e2e6-4192-88b2-3ea3e7586364",
   "metadata": {},
   "outputs": [
    {
     "name": "stdout",
     "output_type": "stream",
     "text": [
      "cat vs. fruit:  0.35840646132885123\n",
      "cat vs. animal:  0.9883091119352355\n",
      "cat vs. cat:  1.0\n"
     ]
    }
   ],
   "source": [
    "#scipy version\n",
    "from scipy import spatial\n",
    "\n",
    "def cos_sim(a, b):\n",
    "    cos_sim = 1 - spatial.distance.cosine(a, b)  #distance = 1 - similarlity, because scipy only gives distance\n",
    "    return cos_sim\n",
    "\n",
    "print(f\"cat vs. fruit: \",     cos_sim(cat, fruit))\n",
    "print(f\"cat vs. animal: \",       cos_sim(cat, animal))\n",
    "print(f\"cat vs. cat: \",          cos_sim(cat, cat))"
   ]
  }
 ],
 "metadata": {
  "kernelspec": {
   "display_name": "Python 3 (ipykernel)",
   "language": "python",
   "name": "python3"
  },
  "language_info": {
   "codemirror_mode": {
    "name": "ipython",
    "version": 3
   },
   "file_extension": ".py",
   "mimetype": "text/x-python",
   "name": "python",
   "nbconvert_exporter": "python",
   "pygments_lexer": "ipython3",
   "version": "3.10.12"
  }
 },
 "nbformat": 4,
 "nbformat_minor": 5
}
